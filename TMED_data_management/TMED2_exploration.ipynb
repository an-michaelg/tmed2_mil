{
 "cells": [
  {
   "cell_type": "markdown",
   "id": "e0357aad",
   "metadata": {},
   "source": [
    "# Exploratory data analysis of TMED2 dataset\n",
    "For details of the dataset from official provider, please refer to https://tmed.cs.tufts.edu/#dataset"
   ]
  },
  {
   "cell_type": "code",
   "execution_count": 1,
   "id": "9f84eb66",
   "metadata": {},
   "outputs": [],
   "source": [
    "import glob\n",
    "import os \n",
    "import pandas as pd\n",
    "import matplotlib.pyplot as plt\n",
    "import numpy as np\n",
    "source_f = 'D:\\\\Datasets\\\\TMED2\\\\approved_users_only\\\\'\n",
    "\n",
    "unl_f = source_f + 'unlabeled_set\\\\'\n",
    "view_and_diagnosis_folder = source_f +  'view_and_diagnosis_labeled_set\\\\'\n",
    "view_folder = source_f +  'view_labeled_set\\\\'\n",
    "\n",
    "vd_l_f = view_and_diagnosis_folder + 'labeled\\\\'\n",
    "vd_unl_f = view_and_diagnosis_folder + 'unlabeled\\\\'\n",
    "v_l_f = view_folder + 'labeled\\\\'\n",
    "v_unl_f = view_folder + 'unlabeled\\\\'\n"
   ]
  },
  {
   "cell_type": "code",
   "execution_count": 2,
   "id": "92e36372",
   "metadata": {
    "scrolled": true
   },
   "outputs": [
    {
     "name": "stdout",
     "output_type": "stream",
     "text": [
      "number of images in D:\\Datasets\\TMED2\\approved_users_only\\unlabeled_set\\: 353500\n",
      "number of images in D:\\Datasets\\TMED2\\approved_users_only\\view_and_diagnosis_labeled_set\\labeled\\: 17270\n",
      "number of images in D:\\Datasets\\TMED2\\approved_users_only\\view_and_diagnosis_labeled_set\\unlabeled\\: 26590\n",
      "number of images in D:\\Datasets\\TMED2\\approved_users_only\\view_labeled_set\\labeled\\: 7694\n",
      "number of images in D:\\Datasets\\TMED2\\approved_users_only\\view_labeled_set\\unlabeled\\: 37576\n"
     ]
    }
   ],
   "source": [
    "# check if the number of files is consistent with the excel spreadsheets provided and online information\n",
    "def get_folder_pngs(folder_path):\n",
    "    pngs = glob.glob(folder_path + '**\\\\*.png', recursive=True)\n",
    "    print('number of images in ' + folder_path + ': ' + str(len(pngs)))\n",
    "    return pngs\n",
    "\n",
    "unl_pngs = get_folder_pngs(unl_f)\n",
    "vd_l_pngs = get_folder_pngs(vd_l_f)\n",
    "vd_unl_pngs = get_folder_pngs(vd_unl_f)\n",
    "v_l_pngs = get_folder_pngs(v_l_f)\n",
    "v_unl_pngs = get_folder_pngs(v_unl_f)\n"
   ]
  },
  {
   "cell_type": "code",
   "execution_count": 3,
   "id": "8f7f92b7",
   "metadata": {},
   "outputs": [],
   "source": [
    "# check the labelled excel sheet\n",
    "def get_patient_id(text):\n",
    "    # remove everything after 's'\n",
    "    ind = text.find('s')\n",
    "    return text[:ind]\n",
    "df = pd.read_csv(source_f + 'labels_per_image.csv')\n",
    "df['patient_id'] = df['query_key'].map(get_patient_id)"
   ]
  },
  {
   "cell_type": "code",
   "execution_count": 4,
   "id": "63add2d4",
   "metadata": {},
   "outputs": [
    {
     "name": "stdout",
     "output_type": "stream",
     "text": [
      "VD labelled images: 17270, patients: 576\n",
      "V labelled images: 7694, patients: 703\n"
     ]
    }
   ],
   "source": [
    "df_vd_l = df[df['diagnosis_label']!='Not_Provided'].copy()\n",
    "df_vd_l['path'] = df_vd_l['query_key'].map(lambda x: vd_l_f + x)\n",
    "vd_patients = df_vd_l['patient_id'].unique()\n",
    "print('VD labelled images: {0}, patients: {1}'.format(len(df_vd_l), len(vd_patients)))\n",
    "df_v_l = df[df['diagnosis_label']=='Not_Provided'].copy()\n",
    "df_v_l['path'] = df_v_l['query_key'].map(lambda x: v_l_f + x)\n",
    "v_patients = df_v_l['patient_id'].unique()\n",
    "print('V labelled images: {0}, patients: {1}'.format(len(df_v_l), len(v_patients)))"
   ]
  },
  {
   "cell_type": "markdown",
   "id": "17d1c967",
   "metadata": {},
   "source": [
    "This matches up with the folder. According to website we are missing one patient in VD_labelled"
   ]
  },
  {
   "cell_type": "code",
   "execution_count": 5,
   "id": "828307d3",
   "metadata": {},
   "outputs": [
    {
     "name": "stdout",
     "output_type": "stream",
     "text": [
      "UNlabelled images: 353500, patients: 5119\n"
     ]
    }
   ],
   "source": [
    "df_unl = pd.read_csv(source_f + 'TMED2_train_unlabeled.csv')\n",
    "df_unl['path'] = df_unl['query_key'].map(lambda x: unl_f + x)\n",
    "df_unl['patient_id'] = df_unl['query_key'].map(get_patient_id)\n",
    "unl_patients = df_unl['patient_id'].unique()\n",
    "print('UNlabelled images: {0}, patients: {1}'.format(len(df_unl), len(unl_patients)))"
   ]
  },
  {
   "cell_type": "markdown",
   "id": "0805558f",
   "metadata": {},
   "source": [
    "This matches up with the folder. Website says there should be 5287 patients"
   ]
  },
  {
   "cell_type": "code",
   "execution_count": 6,
   "id": "cf9a3114",
   "metadata": {},
   "outputs": [
    {
     "name": "stdout",
     "output_type": "stream",
     "text": [
      "PLAX    2564\n",
      "A4C     2359\n",
      "A2C     1766\n",
      "PSAX    1005\n",
      "Name: view_label, dtype: int64\n"
     ]
    },
    {
     "data": {
      "text/html": [
       "<div>\n",
       "<style scoped>\n",
       "    .dataframe tbody tr th:only-of-type {\n",
       "        vertical-align: middle;\n",
       "    }\n",
       "\n",
       "    .dataframe tbody tr th {\n",
       "        vertical-align: top;\n",
       "    }\n",
       "\n",
       "    .dataframe thead th {\n",
       "        text-align: right;\n",
       "    }\n",
       "</style>\n",
       "<table border=\"1\" class=\"dataframe\">\n",
       "  <thead>\n",
       "    <tr style=\"text-align: right;\">\n",
       "      <th>diagnosis_label</th>\n",
       "      <th>mild_AS</th>\n",
       "      <th>mildtomod_AS</th>\n",
       "      <th>moderate_AS</th>\n",
       "      <th>no_AS</th>\n",
       "      <th>severe_AS</th>\n",
       "    </tr>\n",
       "    <tr>\n",
       "      <th>view_label</th>\n",
       "      <th></th>\n",
       "      <th></th>\n",
       "      <th></th>\n",
       "      <th></th>\n",
       "      <th></th>\n",
       "    </tr>\n",
       "  </thead>\n",
       "  <tbody>\n",
       "    <tr>\n",
       "      <th>A2C</th>\n",
       "      <td>409</td>\n",
       "      <td>77</td>\n",
       "      <td>530</td>\n",
       "      <td>124</td>\n",
       "      <td>530</td>\n",
       "    </tr>\n",
       "    <tr>\n",
       "      <th>A4C</th>\n",
       "      <td>531</td>\n",
       "      <td>103</td>\n",
       "      <td>700</td>\n",
       "      <td>177</td>\n",
       "      <td>695</td>\n",
       "    </tr>\n",
       "    <tr>\n",
       "      <th>A4CorA2CorOther</th>\n",
       "      <td>0</td>\n",
       "      <td>0</td>\n",
       "      <td>2765</td>\n",
       "      <td>0</td>\n",
       "      <td>4096</td>\n",
       "    </tr>\n",
       "    <tr>\n",
       "      <th>PLAX</th>\n",
       "      <td>474</td>\n",
       "      <td>209</td>\n",
       "      <td>1483</td>\n",
       "      <td>1077</td>\n",
       "      <td>1565</td>\n",
       "    </tr>\n",
       "    <tr>\n",
       "      <th>PSAX</th>\n",
       "      <td>261</td>\n",
       "      <td>63</td>\n",
       "      <td>427</td>\n",
       "      <td>304</td>\n",
       "      <td>670</td>\n",
       "    </tr>\n",
       "  </tbody>\n",
       "</table>\n",
       "</div>"
      ],
      "text/plain": [
       "diagnosis_label  mild_AS  mildtomod_AS  moderate_AS  no_AS  severe_AS\n",
       "view_label                                                           \n",
       "A2C                  409            77          530    124        530\n",
       "A4C                  531           103          700    177        695\n",
       "A4CorA2CorOther        0             0         2765      0       4096\n",
       "PLAX                 474           209         1483   1077       1565\n",
       "PSAX                 261            63          427    304        670"
      ]
     },
     "execution_count": 6,
     "metadata": {},
     "output_type": "execute_result"
    }
   ],
   "source": [
    "# check the label distributions in each dataset - image level\n",
    "print(df_v_l['view_label'].value_counts())\n",
    "#print(df_vd_l['view_label'].value_counts())\n",
    "#print(df_vd_l['diagnosis_label'].value_counts())\n",
    "pd.crosstab(df_vd_l['view_label'], df_vd_l['diagnosis_label'])"
   ]
  },
  {
   "cell_type": "markdown",
   "id": "0e7908ab",
   "metadata": {},
   "source": [
    "Caveat: The A4CorA2CorOther category only exists in the VD section"
   ]
  },
  {
   "cell_type": "code",
   "execution_count": 7,
   "id": "2f922755",
   "metadata": {},
   "outputs": [
    {
     "name": "stdout",
     "output_type": "stream",
     "text": [
      "severe_AS       164\n",
      "mild_AS         138\n",
      "no_AS           125\n",
      "moderate_AS     122\n",
      "mildtomod_AS     27\n",
      "dtype: int64\n",
      "['3521', '3190', '6080', '6184', '4226']\n"
     ]
    }
   ],
   "source": [
    "# check the label distribution at the patient-level\n",
    "severities = []\n",
    "inconsistency = []\n",
    "for ind, p in enumerate(vd_patients):\n",
    "    dfp = df_vd_l[df_vd_l['patient_id']==p]\n",
    "    if (dfp['diagnosis_label'] == dfp.iloc[0]['diagnosis_label']).all():\n",
    "        severities.append(dfp.iloc[0]['diagnosis_label'])\n",
    "    else:\n",
    "        severities.append(dfp.iloc[0]['diagnosis_label'])\n",
    "        inconsistency.append(p)\n",
    "print(pd.Series(severities).value_counts())\n",
    "print(inconsistency) # which patients have multiple AS labels across multiple exams"
   ]
  },
  {
   "cell_type": "code",
   "execution_count": 8,
   "id": "9fc9ed39",
   "metadata": {},
   "outputs": [
    {
     "data": {
      "text/plain": [
       "<matplotlib.legend.Legend at 0x1adbe1a0160>"
      ]
     },
     "execution_count": 8,
     "metadata": {},
     "output_type": "execute_result"
    },
    {
     "data": {
      "image/png": "[encoded data removed]",
      "text/plain": [
       "<Figure size 432x288 with 1 Axes>"
      ]
     },
     "metadata": {
      "needs_background": "light"
     },
     "output_type": "display_data"
    }
   ],
   "source": [
    "# amount of videos per severity-labelled patient - All images\n",
    "\n",
    "# create a separate view for each severity\n",
    "sev = df_vd_l['diagnosis_label'].unique()\n",
    "df_vd_l_severity = {}\n",
    "pvc = {}\n",
    "for s in sev:\n",
    "    df_vd_l_severity[s] = df_vd_l[df_vd_l['diagnosis_label']==s]\n",
    "# determine the number of videos per patient for each severity\n",
    "pvc = [list(df_vd_l_severity[s]['patient_id'].value_counts()) for s in sev]\n",
    "pvc_max = max(df_vd_l['patient_id'].value_counts())\n",
    "plt.hist(pvc, bins=pvc_max, label=sev, stacked=True)\n",
    "plt.legend()"
   ]
  },
  {
   "cell_type": "code",
   "execution_count": 9,
   "id": "bef27f7c",
   "metadata": {},
   "outputs": [
    {
     "data": {
      "text/plain": [
       "<matplotlib.legend.Legend at 0x1adbb3abb80>"
      ]
     },
     "execution_count": 9,
     "metadata": {},
     "output_type": "execute_result"
    },
    {
     "data": {
      "image/png": "[encoded data removed]",
      "text/plain": [
       "<Figure size 432x288 with 1 Axes>"
      ]
     },
     "metadata": {
      "needs_background": "light"
     },
     "output_type": "display_data"
    }
   ],
   "source": [
    "# amount of videos per severity-labelled patient - PLAX/PSAX only\n",
    "\n",
    "# create a separate view for each severity\n",
    "sev = df_vd_l['diagnosis_label'].unique()\n",
    "df_vd_l_severity = {}\n",
    "pvc = {}\n",
    "for s in sev:\n",
    "    by_sev = df_vd_l[df_vd_l['diagnosis_label']==s]\n",
    "    df_vd_l_severity[s] = by_sev[by_sev['view_label'].isin(['PLAX','PSAX'])]\n",
    "# determine the number of videos per patient for each severity\n",
    "pvc = [list(df_vd_l_severity[s]['patient_id'].value_counts()) for s in sev]\n",
    "pvc_max = max(df_vd_l['patient_id'].value_counts())\n",
    "plt.hist(pvc, bins=pvc_max, label=sev, stacked=True)\n",
    "plt.legend()"
   ]
  },
  {
   "cell_type": "code",
   "execution_count": 10,
   "id": "1fb817c1",
   "metadata": {},
   "outputs": [
    {
     "name": "stdout",
     "output_type": "stream",
     "text": [
      "For class moderate_AS, median images: 55.0, std:25.063610000071943\n",
      "For class mild_AS, median images: 9.0, std:11.869052308252813\n",
      "For class severe_AS, median images: 49.0, std:27.66830026044448\n",
      "For class no_AS, median images: 14.0, std:6.9073132258498315\n",
      "For class mildtomod_AS, median images: 17.0, std:12.284465526772568\n"
     ]
    }
   ],
   "source": [
    "# average number of images for each severity\n",
    "sev = df_vd_l['diagnosis_label'].unique()\n",
    "for s in sev:\n",
    "    nimages = []\n",
    "    # get a list of patients with that degree of severity\n",
    "    s_patients = df_vd_l[df_vd_l['diagnosis_label']==s]['patient_id'].unique()\n",
    "    for p in s_patients: # count the number of images\n",
    "        n_images = len(df[df['patient_id']==p])\n",
    "        nimages.append(n_images)\n",
    "    n_avg = np.median(nimages)\n",
    "    n_stdev = np.std(nimages)\n",
    "    print('For class {0}, median images: {1}, std:{2}'.format(s, n_avg, n_stdev))"
   ]
  },
  {
   "cell_type": "code",
   "execution_count": 11,
   "id": "e093c7ff",
   "metadata": {},
   "outputs": [
    {
     "name": "stdout",
     "output_type": "stream",
     "text": [
      "353500\n",
      "26590\n",
      "37576\n",
      "set()\n",
      "set()\n"
     ]
    }
   ],
   "source": [
    "# are the \"unl\" sections in labelled folders subsets of the wider unlabelled set?\n",
    "print(len(unl_pngs))\n",
    "print(len(vd_unl_pngs))\n",
    "print(len(v_unl_pngs))\n",
    "\n",
    "unl_patients = set([get_patient_id(x) for x in unl_pngs])\n",
    "vd_unl_patients = set([get_patient_id(x) for x in vd_unl_pngs])\n",
    "v_unl_patients = set([get_patient_id(x) for x in v_unl_pngs])\n",
    "\n",
    "print(vd_unl_patients.difference(unl_patients)) # if set empty, indicates vd_unl is a subset of unl\n",
    "print(v_unl_patients.difference(unl_patients))"
   ]
  },
  {
   "cell_type": "code",
   "execution_count": 12,
   "id": "e24e10f3",
   "metadata": {},
   "outputs": [
    {
     "data": {
      "text/plain": [
       "<matplotlib.image.AxesImage at 0x1adcbce8e80>"
      ]
     },
     "execution_count": 12,
     "metadata": {},
     "output_type": "execute_result"
    },
    {
     "data": {
      "image/png": "[encoded data removed]",
      "text/plain": [
       "<Figure size 432x288 with 1 Axes>"
      ]
     },
     "metadata": {
      "needs_background": "light"
     },
     "output_type": "display_data"
    }
   ],
   "source": [
    "# try opening an image\n",
    "list_of_ambiguous_views = list(df_vd_l[df_vd_l['view_label']=='A4CorA2CorOther']['path'])\n",
    "plt.imshow(plt.imread(list_of_ambiguous_views[78]))"
   ]
  },
  {
   "cell_type": "code",
   "execution_count": 13,
   "id": "9d1d9e08",
   "metadata": {},
   "outputs": [
    {
     "data": {
      "text/html": [
       "<div>\n",
       "<style scoped>\n",
       "    .dataframe tbody tr th:only-of-type {\n",
       "        vertical-align: middle;\n",
       "    }\n",
       "\n",
       "    .dataframe tbody tr th {\n",
       "        vertical-align: top;\n",
       "    }\n",
       "\n",
       "    .dataframe thead th {\n",
       "        text-align: right;\n",
       "    }\n",
       "</style>\n",
       "<table border=\"1\" class=\"dataframe\">\n",
       "  <thead>\n",
       "    <tr style=\"text-align: right;\">\n",
       "      <th></th>\n",
       "      <th>query_key</th>\n",
       "      <th>view_label</th>\n",
       "      <th>diagnosis_label</th>\n",
       "      <th>patient_id</th>\n",
       "      <th>path</th>\n",
       "    </tr>\n",
       "  </thead>\n",
       "  <tbody>\n",
       "    <tr>\n",
       "      <th>0</th>\n",
       "      <td>4860s1_0.png</td>\n",
       "      <td>A4C</td>\n",
       "      <td>moderate_AS</td>\n",
       "      <td>4860</td>\n",
       "      <td>D:\\Datasets\\TMED2\\approved_users_only\\view_and...</td>\n",
       "    </tr>\n",
       "    <tr>\n",
       "      <th>1</th>\n",
       "      <td>4860s1_1.png</td>\n",
       "      <td>A2C</td>\n",
       "      <td>moderate_AS</td>\n",
       "      <td>4860</td>\n",
       "      <td>D:\\Datasets\\TMED2\\approved_users_only\\view_and...</td>\n",
       "    </tr>\n",
       "    <tr>\n",
       "      <th>2</th>\n",
       "      <td>4860s1_2.png</td>\n",
       "      <td>PLAX</td>\n",
       "      <td>moderate_AS</td>\n",
       "      <td>4860</td>\n",
       "      <td>D:\\Datasets\\TMED2\\approved_users_only\\view_and...</td>\n",
       "    </tr>\n",
       "    <tr>\n",
       "      <th>3</th>\n",
       "      <td>4860s1_3.png</td>\n",
       "      <td>PLAX</td>\n",
       "      <td>moderate_AS</td>\n",
       "      <td>4860</td>\n",
       "      <td>D:\\Datasets\\TMED2\\approved_users_only\\view_and...</td>\n",
       "    </tr>\n",
       "    <tr>\n",
       "      <th>4</th>\n",
       "      <td>4860s1_4.png</td>\n",
       "      <td>PLAX</td>\n",
       "      <td>moderate_AS</td>\n",
       "      <td>4860</td>\n",
       "      <td>D:\\Datasets\\TMED2\\approved_users_only\\view_and...</td>\n",
       "    </tr>\n",
       "    <tr>\n",
       "      <th>...</th>\n",
       "      <td>...</td>\n",
       "      <td>...</td>\n",
       "      <td>...</td>\n",
       "      <td>...</td>\n",
       "      <td>...</td>\n",
       "    </tr>\n",
       "    <tr>\n",
       "      <th>17265</th>\n",
       "      <td>5897s1_16.png</td>\n",
       "      <td>A2C</td>\n",
       "      <td>severe_AS</td>\n",
       "      <td>5897</td>\n",
       "      <td>D:\\Datasets\\TMED2\\approved_users_only\\view_and...</td>\n",
       "    </tr>\n",
       "    <tr>\n",
       "      <th>17266</th>\n",
       "      <td>5897s1_17.png</td>\n",
       "      <td>A2C</td>\n",
       "      <td>severe_AS</td>\n",
       "      <td>5897</td>\n",
       "      <td>D:\\Datasets\\TMED2\\approved_users_only\\view_and...</td>\n",
       "    </tr>\n",
       "    <tr>\n",
       "      <th>17267</th>\n",
       "      <td>5897s1_18.png</td>\n",
       "      <td>A2C</td>\n",
       "      <td>severe_AS</td>\n",
       "      <td>5897</td>\n",
       "      <td>D:\\Datasets\\TMED2\\approved_users_only\\view_and...</td>\n",
       "    </tr>\n",
       "    <tr>\n",
       "      <th>17268</th>\n",
       "      <td>5897s1_19.png</td>\n",
       "      <td>A4C</td>\n",
       "      <td>severe_AS</td>\n",
       "      <td>5897</td>\n",
       "      <td>D:\\Datasets\\TMED2\\approved_users_only\\view_and...</td>\n",
       "    </tr>\n",
       "    <tr>\n",
       "      <th>17269</th>\n",
       "      <td>5897s1_20.png</td>\n",
       "      <td>A4C</td>\n",
       "      <td>severe_AS</td>\n",
       "      <td>5897</td>\n",
       "      <td>D:\\Datasets\\TMED2\\approved_users_only\\view_and...</td>\n",
       "    </tr>\n",
       "  </tbody>\n",
       "</table>\n",
       "<p>17270 rows × 5 columns</p>\n",
       "</div>"
      ],
      "text/plain": [
       "           query_key view_label diagnosis_label patient_id  \\\n",
       "0       4860s1_0.png        A4C     moderate_AS       4860   \n",
       "1       4860s1_1.png        A2C     moderate_AS       4860   \n",
       "2       4860s1_2.png       PLAX     moderate_AS       4860   \n",
       "3       4860s1_3.png       PLAX     moderate_AS       4860   \n",
       "4       4860s1_4.png       PLAX     moderate_AS       4860   \n",
       "...              ...        ...             ...        ...   \n",
       "17265  5897s1_16.png        A2C       severe_AS       5897   \n",
       "17266  5897s1_17.png        A2C       severe_AS       5897   \n",
       "17267  5897s1_18.png        A2C       severe_AS       5897   \n",
       "17268  5897s1_19.png        A4C       severe_AS       5897   \n",
       "17269  5897s1_20.png        A4C       severe_AS       5897   \n",
       "\n",
       "                                                    path  \n",
       "0      D:\\Datasets\\TMED2\\approved_users_only\\view_and...  \n",
       "1      D:\\Datasets\\TMED2\\approved_users_only\\view_and...  \n",
       "2      D:\\Datasets\\TMED2\\approved_users_only\\view_and...  \n",
       "3      D:\\Datasets\\TMED2\\approved_users_only\\view_and...  \n",
       "4      D:\\Datasets\\TMED2\\approved_users_only\\view_and...  \n",
       "...                                                  ...  \n",
       "17265  D:\\Datasets\\TMED2\\approved_users_only\\view_and...  \n",
       "17266  D:\\Datasets\\TMED2\\approved_users_only\\view_and...  \n",
       "17267  D:\\Datasets\\TMED2\\approved_users_only\\view_and...  \n",
       "17268  D:\\Datasets\\TMED2\\approved_users_only\\view_and...  \n",
       "17269  D:\\Datasets\\TMED2\\approved_users_only\\view_and...  \n",
       "\n",
       "[17270 rows x 5 columns]"
      ]
     },
     "execution_count": 13,
     "metadata": {},
     "output_type": "execute_result"
    }
   ],
   "source": [
    "df_vd_l"
   ]
  },
  {
   "cell_type": "code",
   "execution_count": 14,
   "id": "02928993",
   "metadata": {},
   "outputs": [
    {
     "name": "stdout",
     "output_type": "stream",
     "text": [
      "360\n",
      "119\n",
      "119\n",
      "360\n",
      "119\n",
      "119\n",
      "360\n",
      "118\n",
      "120\n"
     ]
    }
   ],
   "source": [
    "# check the population of the DEV479 splits (479 refers to 360 tr, 119 val, 119 test studies) (598 in total)\n",
    "# for reference, TMED2 website states there are 599 studies in total\n",
    "def get_study_id(text):\n",
    "    # remove everything after 's'\n",
    "    ind = text.find('_')\n",
    "    return text[:ind]\n",
    "\n",
    "def read_dev_fold_csv(filepath):\n",
    "    fold = pd.read_csv(filepath)\n",
    "    fold['study'] = fold['query_key'].map(get_study_id)\n",
    "    splits = ['train', 'val', 'test']\n",
    "    fold_splits = {}\n",
    "    for s in splits:\n",
    "        fold_splits[s] = fold[fold['diagnosis_classifier_split']==s]\n",
    "        print(len(list(fold_splits[s]['study'].value_counts())))\n",
    "    return fold_splits, fold\n",
    "s0f, s0 = read_dev_fold_csv(source_f + 'DEV479\\\\TMED2_fold0_labeledpart.csv')\n",
    "s1f, s1 = read_dev_fold_csv(source_f + 'DEV479\\\\TMED2_fold1_labeledpart.csv')\n",
    "s2f, s2 = read_dev_fold_csv(source_f + 'DEV479\\\\TMED2_fold2_labeledpart.csv')"
   ]
  },
  {
   "cell_type": "code",
   "execution_count": 15,
   "id": "8e44a913",
   "metadata": {},
   "outputs": [
    {
     "name": "stdout",
     "output_type": "stream",
     "text": [
      "True\n",
      "True\n",
      "360\n",
      "360\n",
      "37\n"
     ]
    }
   ],
   "source": [
    "# see if each set is using the same group of studies\n",
    "print(sorted(s0['study'].unique()) == sorted(s1['study'].unique())) # true\n",
    "print(sorted(s0['study'].unique()) == sorted(s2['study'].unique())) # true\n",
    "# see if the training splits of each set intersect\n",
    "print(len(s0f['train']['study'].unique()))\n",
    "print(len(s1f['train']['study'].unique()))\n",
    "print(len(set(s2f['test']['study'].unique()).intersection(set(s0f['test']['study'].unique()))))"
   ]
  },
  {
   "cell_type": "code",
   "execution_count": 16,
   "id": "894936f9",
   "metadata": {},
   "outputs": [
    {
     "name": "stdout",
     "output_type": "stream",
     "text": [
      "5\n",
      "1\n",
      "16\n",
      "32\n",
      "22\n",
      "29\n",
      "14\n"
     ]
    }
   ],
   "source": [
    "# look at how many images are in each study, bin them appropriately\n",
    "bin_vals = [0, 2, 4, 8, 16, 32, 64, 128]\n",
    "bins = [[] for i in range(len(bin_vals)-1)]\n",
    "for i in list(s0f['val']['study'].value_counts()):\n",
    "    for j in range(len(bin_vals)-1):\n",
    "        if i > bin_vals[j] and i <= bin_vals[j+1]:\n",
    "            bins[j].append(i)\n",
    "for k in bins:\n",
    "    print(len(k))"
   ]
  },
  {
   "cell_type": "code",
   "execution_count": 20,
   "id": "e0612055",
   "metadata": {},
   "outputs": [
    {
     "name": "stdout",
     "output_type": "stream",
     "text": [
      "Counter({'severe_AS': 99, 'mild_AS': 87, 'moderate_AS': 82, 'no_AS': 76, 'mildtomod_AS': 16})\n"
     ]
    }
   ],
   "source": [
    "# look at the class distribution of the training set\n",
    "diagnosis_label = []\n",
    "for s in s0f['train']['study'].unique():\n",
    "    study = s0f['train'][s0f['train']['study']==s]\n",
    "    diagnosis_label.append(study.iloc[0]['diagnosis_label'])\n",
    "from collections import Counter\n",
    "c = Counter(diagnosis_label)\n",
    "print(c)"
   ]
  },
  {
   "cell_type": "code",
   "execution_count": null,
   "id": "e03f61d0",
   "metadata": {},
   "outputs": [],
   "source": []
  }
 ],
 "metadata": {
  "kernelspec": {
   "display_name": "Python 3",
   "language": "python",
   "name": "python3"
  },
  "language_info": {
   "codemirror_mode": {
    "name": "ipython",
    "version": 3
   },
   "file_extension": ".py",
   "mimetype": "text/x-python",
   "name": "python",
   "nbconvert_exporter": "python",
   "pygments_lexer": "ipython3",
   "version": "3.8.8"
  }
 },
 "nbformat": 4,
 "nbformat_minor": 5
}
